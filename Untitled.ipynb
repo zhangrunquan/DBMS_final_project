{
 "cells": [
  {
   "cell_type": "code",
   "execution_count": null,
   "metadata": {},
   "outputs": [],
   "source": [
    "store_id='1'\n",
    "book_id='1'\n"
   ]
  },
  {
   "cell_type": "code",
   "execution_count": null,
   "metadata": {},
   "outputs": [],
   "source": [
    "sql=\"INSERT into store(store_id, book_id, book_info, stock_level,search_content1, search_content2) values (\\'{0}\\',\\'{1}\\',\\'{2}\\',{3},to_tsvector({4}),to_tsvector({5}))\"\\\n",
    "            .format(store_id, book_id, book_json_str, stock_level,tag_string,title_string)"
   ]
  }
 ],
 "metadata": {
  "kernelspec": {
   "display_name": "Python 3",
   "language": "python",
   "name": "python3"
  },
  "language_info": {
   "codemirror_mode": {
    "name": "ipython",
    "version": 3
   },
   "file_extension": ".py",
   "mimetype": "text/x-python",
   "name": "python",
   "nbconvert_exporter": "python",
   "pygments_lexer": "ipython3",
   "version": "3.7.4"
  }
 },
 "nbformat": 4,
 "nbformat_minor": 2
}
